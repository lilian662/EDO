{
  "nbformat": 4,
  "nbformat_minor": 0,
  "metadata": {
    "colab": {
      "provenance": [],
      "name": "EDPI_28/05/25.ipynb",
      "authorship_tag": "ABX9TyPhMC4os23nuS+flJY97WiX",
      "include_colab_link": true
    },
    "kernelspec": {
      "name": "python3",
      "display_name": "Python 3"
    },
    "language_info": {
      "name": "python"
    }
  },
  "cells": [
    {
      "cell_type": "markdown",
      "metadata": {
        "id": "view-in-github",
        "colab_type": "text"
      },
      "source": [
        "<a href=\"https://colab.research.google.com/github/lilian662/EDO/blob/main/EDPI_28_05_25.ipynb\" target=\"_parent\"><img src=\"https://colab.research.google.com/assets/colab-badge.svg\" alt=\"Open In Colab\"/></a>"
      ]
    },
    {
      "cell_type": "code",
      "source": [
        "import sympy as sp\n",
        "\n",
        "# Variables originales\n",
        "x, y = sp.symbols('x y')\n",
        "u = sp.Function('u')(x, y)\n",
        "\n",
        "# Coeficientes A, B, C de la EDP\n",
        "A, B, C = 1, -3/2, -10\n",
        "\n",
        "# Discriminante\n",
        "D = B**2 - A*C\n",
        "print(f\"Discriminante D = {D} → \", end=\"\")\n",
        "if D > 0:\n",
        "    print(\"EDP Hiperbólica\")\n",
        "elif D == 0:\n",
        "    print(\"EDP Parabólica\")\n",
        "else:\n",
        "    print(\"EDP Elíptica\")\n",
        "\n",
        "# Raíz del discriminante\n",
        "sqrtD = sp.sqrt(D)\n",
        "\n",
        "# Definimos las variables características\n",
        "xi = -(B + sqrtD)*x + y\n",
        "eta = -(B - sqrtD)*x + y\n",
        "print(f\"\\nTransformación:\\nξ = {xi}\\nη = {eta}\")\n",
        "\n",
        "# Nuevas variables simbólicas\n",
        "xi_sym, eta_sym = sp.symbols('xi eta')\n",
        "U = sp.Function('U')(xi_sym, eta_sym)\n",
        "\n",
        "# Derivadas parciales de ξ y η respecto a x e y\n",
        "xi_x = sp.diff(xi, x)\n",
        "xi_y = sp.diff(xi, y)\n",
        "eta_x = sp.diff(eta, x)\n",
        "eta_y = sp.diff(eta, y)\n",
        "\n",
        "# Derivadas parciales de U por la regla de la cadena\n",
        "U_xi = sp.Function('U')(xi_sym, eta_sym).diff(xi_sym)\n",
        "U_eta = sp.Function('U')(xi_sym, eta_sym).diff(eta_sym)\n",
        "U_xixi = sp.Function('U')(xi_sym, eta_sym).diff(xi_sym, 2)\n",
        "U_etaeta = sp.Function('U')(xi_sym, eta_sym).diff(eta_sym, 2)\n",
        "U_xieta = sp.Function('U')(xi_sym, eta_sym).diff(xi_sym, eta_sym)\n",
        "\n",
        "# Derivadas transformadas\n",
        "u_xx = U_xixi * xi_x**2 + 2*U_xieta*xi_x*eta_x + U_etaeta * eta_x**2\n",
        "u_xy = U_xixi * xi_x*xi_y + U_xieta * (xi_x*eta_y + eta_x*xi_y) + U_etaeta * eta_x*eta_y\n",
        "u_yy = U_xixi * xi_y**2 + 2*U_xieta*xi_y*eta_y + U_etaeta * eta_y**2\n",
        "\n",
        "# Sustitución en la EDP original\n",
        "EDP = A*u_xx + 2*B*u_xy + C*u_yy\n",
        "EDP_simplificada = sp.simplify(EDP)\n",
        "\n",
        "print(\"\\nEDP en forma canónica:\")\n",
        "sp.pprint(EDP_simplificada)"
      ],
      "metadata": {
        "id": "3iWyYro2jofz",
        "outputId": "0c6a0cb0-018b-4c26-c247-c1bbc46fede2",
        "colab": {
          "base_uri": "https://localhost:8080/"
        }
      },
      "execution_count": 2,
      "outputs": [
        {
          "output_type": "stream",
          "name": "stdout",
          "text": [
            "Discriminante D = 12.25 → EDP Hiperbólica\n",
            "\n",
            "Transformación:\n",
            "ξ = -2.0*x + y\n",
            "η = 5.0*x + y\n",
            "\n",
            "EDP en forma canónica:\n",
            "        2           \n",
            "       ∂            \n",
            "-49.0⋅─────(U(ξ, η))\n",
            "      ∂ξ ∂η         \n"
          ]
        }
      ]
    }
  ]
}