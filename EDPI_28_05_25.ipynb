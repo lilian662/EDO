{
  "nbformat": 4,
  "nbformat_minor": 0,
  "metadata": {
    "colab": {
      "provenance": [],
      "name": "EDPI_28/05/25.ipynb",
      "authorship_tag": "ABX9TyPD1g49M8peDu+vWKBz/AQj",
      "include_colab_link": true
    },
    "kernelspec": {
      "name": "python3",
      "display_name": "Python 3"
    },
    "language_info": {
      "name": "python"
    }
  },
  "cells": [
    {
      "cell_type": "markdown",
      "metadata": {
        "id": "view-in-github",
        "colab_type": "text"
      },
      "source": [
        "<a href=\"https://colab.research.google.com/github/lilian662/EDO/blob/main/EDPI_28_05_25.ipynb\" target=\"_parent\"><img src=\"https://colab.research.google.com/assets/colab-badge.svg\" alt=\"Open In Colab\"/></a>"
      ]
    },
    {
      "cell_type": "code",
      "source": [
        "import sympy as sp\n",
        "\n",
        "# Variables originales\n",
        "x, y = sp.symbols('x y')\n",
        "u = sp.Function('u')(x, y)\n",
        "\n",
        "# Coeficientes de la EDP: U_xx - 3U_xy - 10U_yy = 0\n",
        "A = 1\n",
        "B = -3 / 2   # 2B = -3 → B = -3/2\n",
        "C = -10\n",
        "\n",
        "# Discriminante\n",
        "D = B**2 - A*C\n",
        "sqrtD = sp.sqrt(D)\n",
        "\n",
        "# Definir las nuevas variables características\n",
        "xi = -(B + sqrtD)*x + y\n",
        "eta = -(B - sqrtD)*x + y\n",
        "\n",
        "# Declarar símbolos para las nuevas variables\n",
        "xi_sym, eta_sym = sp.symbols('xi eta')\n",
        "U = sp.Function('U')(xi_sym, eta_sym)\n",
        "\n",
        "# Derivadas de xi y eta respecto a x e y\n",
        "xi_x = sp.diff(xi, x)\n",
        "xi_y = sp.diff(xi, y)\n",
        "eta_x = sp.diff(eta, x)\n",
        "eta_y = sp.diff(eta, y)\n",
        "\n",
        "# Derivadas parciales de u por regla de la cadena\n",
        "U_xi = U.diff(xi_sym)\n",
        "U_eta = U.diff(eta_sym)\n",
        "\n",
        "u_x = U_xi * xi_x + U_eta * eta_x\n",
        "u_y = U_xi * xi_y + U_eta * eta_y\n",
        "u_xx = sp.diff(u_x, x)\n",
        "u_xy = sp.diff(u_x, y)\n",
        "u_yy = sp.diff(u_y, y)\n",
        "\n",
        "# Sustituimos en la EDP original\n",
        "EDP = A*u_xx + 2*B*u_xy + C*u_yy\n",
        "\n",
        "# Simplificamos y mostramos el resultado\n",
        "EDP_simplificada = sp.simplify(EDP)\n",
        "sp.pprint(EDP_simplificada)"
      ],
      "metadata": {
        "colab": {
          "base_uri": "https://localhost:8080/"
        },
        "id": "xoib5p-sh9nT",
        "outputId": "2d9496cb-2082-4719-a72b-3ca097bce5b5"
      },
      "execution_count": null,
      "outputs": [
        {
          "output_type": "stream",
          "name": "stdout",
          "text": [
            "0\n"
          ]
        }
      ]
    }
  ]
}